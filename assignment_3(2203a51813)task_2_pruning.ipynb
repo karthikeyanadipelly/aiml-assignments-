{
  "nbformat": 4,
  "nbformat_minor": 0,
  "metadata": {
    "colab": {
      "provenance": []
    },
    "kernelspec": {
      "name": "python3",
      "display_name": "Python 3"
    },
    "language_info": {
      "name": "python"
    }
  },
  "cells": [
    {
      "cell_type": "code",
      "execution_count": 3,
      "metadata": {
        "colab": {
          "base_uri": "https://localhost:8080/"
        },
        "id": "Lej2KDEOLOEr",
        "outputId": "490f4aae-8114-43d8-f7d5-fa9d198ddef5"
      },
      "outputs": [
        {
          "output_type": "stream",
          "name": "stdout",
          "text": [
            "The value of the root node A after applying Alpha-Beta pruning is 4\n"
          ]
        }
      ],
      "source": [
        "# Define the tree in terms of a dictionary\n",
        "tree = {\n",
        "    'A': {'B': {'D': {'H': -1, 'I': 4}, 'E': {'J': 2, 'K': 6}},\n",
        "              'C': {'F': {'L': -3, 'M': -5}, 'G': {'N': 0, 'O': 7}}\n",
        "                       }\n",
        "   }\n",
        "\n",
        "def alpha_beta(node, alpha, beta, maximizing_player=True):\n",
        "  if type(node) is not dict:\n",
        "     return node\n",
        "  if maximizing_player:\n",
        "     max_val = float('-inf')\n",
        "     for child in node.values():\n",
        "         value = alpha_beta(child, alpha, beta, False)\n",
        "         max_val = max(max_val, value)\n",
        "         alpha = max(alpha, value)\n",
        "         if beta <= alpha:\n",
        "            break\n",
        "     return max_val\n",
        "  else:\n",
        "      min_val = float('inf')\n",
        "      for child in node.values():\n",
        "          value = alpha_beta(child, alpha, beta, True)\n",
        "          min_val = min(min_val, value)\n",
        "          beta = min(beta, value)\n",
        "          if beta <= alpha:\n",
        "             break\n",
        "      return min_val\n",
        "\n",
        "\n",
        "result = alpha_beta(tree['A'], float('-inf'), float('inf'))\n",
        "print(f\"The value of the root node A after applying Alpha-Beta pruning is {result}\")"
      ]
    }
  ]
}