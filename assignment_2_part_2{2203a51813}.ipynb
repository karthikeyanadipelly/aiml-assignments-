{
  "nbformat": 4,
  "nbformat_minor": 0,
  "metadata": {
    "colab": {
      "provenance": []
    },
    "kernelspec": {
      "name": "python3",
      "display_name": "Python 3"
    },
    "language_info": {
      "name": "python"
    }
  },
  "cells": [
    {
      "cell_type": "code",
      "execution_count": 5,
      "metadata": {
        "colab": {
          "base_uri": "https://localhost:8080/"
        },
        "id": "-9zHFhjppA-S",
        "outputId": "21a470ed-6948-463a-bc73-02405ff7822f"
      },
      "outputs": [
        {
          "output_type": "stream",
          "name": "stdout",
          "text": [
            "A\n",
            "B\n",
            "S\n",
            "C\n",
            "D\n",
            "E\n",
            "H\n",
            "G\n",
            "F\n"
          ]
        }
      ],
      "source": [
        "def dfs(g, start, visited=None):\n",
        "   if visited is None:\n",
        "      visited = set()\n",
        "\n",
        "   visited.add(start)\n",
        "   print(start)\n",
        "\n",
        "   for neighbor in g [start]:\n",
        "        if neighbor not in visited:\n",
        "             dfs(g, neighbor, visited)\n",
        "\n",
        "g= {\n",
        " 'A':['B','S'],\n",
        " 'B':['A'],\n",
        " 'S':['A','C','G'],\n",
        " 'C':['D','E','F','S'],\n",
        " 'D':['C'],\n",
        " 'E':['C','H'],\n",
        " 'F':['C','G'],\n",
        " 'G':['S','F','H'],\n",
        " 'H':['E','G']\n",
        "\n",
        "\n",
        "  }\n",
        "starting_vertex = 'A'\n",
        "\n",
        "dfs(g, starting_vertex)"
      ]
    }
  ]
}