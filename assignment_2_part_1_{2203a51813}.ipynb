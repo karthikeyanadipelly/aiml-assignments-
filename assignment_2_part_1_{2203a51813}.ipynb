{
  "nbformat": 4,
  "nbformat_minor": 0,
  "metadata": {
    "colab": {
      "provenance": []
    },
    "kernelspec": {
      "name": "python3",
      "display_name": "Python 3"
    },
    "language_info": {
      "name": "python"
    }
  },
  "cells": [
    {
      "cell_type": "code",
      "execution_count": 1,
      "metadata": {
        "colab": {
          "base_uri": "https://localhost:8080/"
        },
        "id": "sTGCdjiRmi7A",
        "outputId": "8d336d35-b776-4b2a-975b-996cd1ad866e"
      },
      "outputs": [
        {
          "output_type": "stream",
          "name": "stdout",
          "text": [
            "Visited vertex 0\n",
            "Visited vertex 1\n",
            "Visited vertex 3\n",
            "Visited vertex 2\n",
            "Visited vertex 4\n",
            "Visited vertex 5\n"
          ]
        }
      ],
      "source": [
        "from queue import Queue\n",
        "\n",
        "def bfs_traversal(adj_list, start_vertex):\n",
        "    visited = set()\n",
        "    q = Queue()\n",
        "    q.put(start_vertex)\n",
        "\n",
        "    while not q.empty():\n",
        "       current_vertex = q.get()\n",
        "       if current_vertex not in visited:\n",
        "           print(f\"Visited vertex {current_vertex}\")\n",
        "           visited.add(current_vertex)\n",
        "           for neighbor in adj_list.get(current_vertex, []):\n",
        "                q.put(neighbor)\n",
        "\n",
        "if __name__ == \"__main__\":\n",
        "       adjacency_list = {\n",
        "          0: [1, 3],\n",
        "          1: [0, 2, 3],\n",
        "          2: [1, 4, 5],\n",
        "          3: [1],\n",
        "          4: [2],\n",
        "          5: [2]\n",
        "            }\n",
        "starting_vertex = 0\n",
        "bfs_traversal(adjacency_list, starting_vertex)\n"
      ]
    }
  ]
}