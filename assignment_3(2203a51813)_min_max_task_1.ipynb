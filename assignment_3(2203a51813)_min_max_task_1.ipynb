{
  "nbformat": 4,
  "nbformat_minor": 0,
  "metadata": {
    "colab": {
      "provenance": []
    },
    "kernelspec": {
      "name": "python3",
      "display_name": "Python 3"
    },
    "language_info": {
      "name": "python"
    }
  },
  "cells": [
    {
      "cell_type": "code",
      "execution_count": 5,
      "metadata": {
        "colab": {
          "base_uri": "https://localhost:8080/"
        },
        "id": "ymrPdr4r-RXg",
        "outputId": "1c78b741-6fb7-4757-9c7f-fc468f0bf6ab"
      },
      "outputs": [
        {
          "output_type": "stream",
          "name": "stdout",
          "text": [
            "The value of the root node A after applying Min-Max is 4\n"
          ]
        }
      ],
      "source": [
        "\n",
        "tree = {\n",
        "        'A': {'B': {'D': {'H': -1, 'I': 4}, 'E': {'J': 2, 'K': 6}},\n",
        "        'C': {'F': {'L': -3, 'M': -5}, 'G': {'N': 0, 'O': 7}}\n",
        "             }\n",
        "\n",
        "       }\n",
        "\n",
        "def min_max(node, maximizing_player=True):\n",
        "     if type(node) is not dict:\n",
        "        return node\n",
        "     if maximizing_player:\n",
        "         return max(min_max(child, False) for child in node.values())\n",
        "     else:\n",
        "         return min(min_max(child, True) for child in node.values())\n",
        "\n",
        "\n",
        "result = min_max(tree['A'])\n",
        "print(f\"The value of the root node A after applying Min-Max is {result}\")\n",
        "\n",
        "\n",
        "\n",
        "\n",
        "\n",
        "\n",
        "\n",
        "\n",
        "\n",
        "\n",
        "\n"
      ]
    },
    {
      "cell_type": "code",
      "source": [],
      "metadata": {
        "id": "XhF2jvVDD81C"
      },
      "execution_count": null,
      "outputs": []
    },
    {
      "cell_type": "code",
      "source": [],
      "metadata": {
        "id": "tiQ1wT6-D-OR"
      },
      "execution_count": null,
      "outputs": []
    },
    {
      "cell_type": "code",
      "source": [],
      "metadata": {
        "id": "YES2GvkCD_AW"
      },
      "execution_count": null,
      "outputs": []
    },
    {
      "cell_type": "code",
      "source": [],
      "metadata": {
        "id": "5_tOGRgED_mW"
      },
      "execution_count": null,
      "outputs": []
    }
  ]
}