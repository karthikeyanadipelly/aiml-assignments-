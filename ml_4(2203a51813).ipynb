{
  "nbformat": 4,
  "nbformat_minor": 0,
  "metadata": {
    "colab": {
      "provenance": [],
      "authorship_tag": "ABX9TyMrMbTaOKjVXfk0NFqs7mBG",
      "include_colab_link": true
    },
    "kernelspec": {
      "name": "python3",
      "display_name": "Python 3"
    },
    "language_info": {
      "name": "python"
    }
  },
  "cells": [
    {
      "cell_type": "markdown",
      "metadata": {
        "id": "view-in-github",
        "colab_type": "text"
      },
      "source": [
        "<a href=\"https://colab.research.google.com/github/karthikeyanadipelly/aiml-assignments-/blob/main/ml_4(2203a51813).ipynb\" target=\"_parent\"><img src=\"https://colab.research.google.com/assets/colab-badge.svg\" alt=\"Open In Colab\"/></a>"
      ]
    },
    {
      "cell_type": "code",
      "execution_count": 20,
      "metadata": {
        "colab": {
          "base_uri": "https://localhost:8080/",
          "height": 558
        },
        "id": "ahhFh4cfFYPk",
        "outputId": "a09f2306-ddd0-4b88-fd63-77cde94541ac"
      },
      "outputs": [
        {
          "output_type": "stream",
          "name": "stdout",
          "text": [
            "Error occurred for k=2: could not convert string to float: 'FEMALE'\n",
            "Error occurred for k=3: could not convert string to float: 'FEMALE'\n",
            "Error occurred for k=4: could not convert string to float: 'FEMALE'\n",
            "Error occurred for k=5: could not convert string to float: 'FEMALE'\n",
            "Error occurred for k=6: could not convert string to float: 'FEMALE'\n",
            "Error occurred for k=7: could not convert string to float: 'FEMALE'\n",
            "Error occurred for k=8: could not convert string to float: 'FEMALE'\n",
            "Error occurred for k=9: could not convert string to float: 'FEMALE'\n",
            "Error occurred for k=10: could not convert string to float: 'FEMALE'\n",
            "Error occurred for k=11: could not convert string to float: 'FEMALE'\n",
            "Error occurred for k=12: could not convert string to float: 'FEMALE'\n",
            "Error occurred for k=13: could not convert string to float: 'FEMALE'\n",
            "Error occurred for k=14: could not convert string to float: 'FEMALE'\n",
            "Error occurred for k=15: could not convert string to float: 'FEMALE'\n",
            "Error occurred for k=16: could not convert string to float: 'FEMALE'\n",
            "Error occurred for k=17: could not convert string to float: 'FEMALE'\n",
            "Error occurred for k=18: could not convert string to float: 'FEMALE'\n",
            "Error occurred for k=19: could not convert string to float: 'FEMALE'\n",
            "Error occurred for k=20: could not convert string to float: 'FEMALE'\n",
            "Error: Lengths of k_values and accuracies are not equal.\n"
          ]
        },
        {
          "output_type": "error",
          "ename": "NameError",
          "evalue": "name 'datasets' is not defined",
          "traceback": [
            "\u001b[0;31m---------------------------------------------------------------------------\u001b[0m",
            "\u001b[0;31mNameError\u001b[0m                                 Traceback (most recent call last)",
            "\u001b[0;32m<ipython-input-20-1d02fe9d622c>\u001b[0m in \u001b[0;36m<cell line: 27>\u001b[0;34m()\u001b[0m\n\u001b[1;32m     37\u001b[0m  \u001b[0mprint\u001b[0m\u001b[0;34m(\u001b[0m\u001b[0;34m\"Error: Lengths of k_values and accuracies are not equal.\"\u001b[0m\u001b[0;34m)\u001b[0m\u001b[0;34m\u001b[0m\u001b[0;34m\u001b[0m\u001b[0m\n\u001b[1;32m     38\u001b[0m \u001b[0;31m# Load the Iris dataset\u001b[0m\u001b[0;34m\u001b[0m\u001b[0;34m\u001b[0m\u001b[0m\n\u001b[0;32m---> 39\u001b[0;31m  \u001b[0miris\u001b[0m \u001b[0;34m=\u001b[0m \u001b[0mdatasets\u001b[0m\u001b[0;34m.\u001b[0m\u001b[0mload_iris\u001b[0m\u001b[0;34m(\u001b[0m\u001b[0;34m)\u001b[0m\u001b[0;34m\u001b[0m\u001b[0;34m\u001b[0m\u001b[0m\n\u001b[0m\u001b[1;32m     40\u001b[0m \u001b[0mX\u001b[0m \u001b[0;34m=\u001b[0m \u001b[0miris\u001b[0m\u001b[0;34m.\u001b[0m\u001b[0mdata\u001b[0m \u001b[0;31m# Features\u001b[0m\u001b[0;34m\u001b[0m\u001b[0;34m\u001b[0m\u001b[0m\n\u001b[1;32m     41\u001b[0m \u001b[0my\u001b[0m \u001b[0;34m=\u001b[0m \u001b[0miris\u001b[0m\u001b[0;34m.\u001b[0m\u001b[0mtarget\u001b[0m \u001b[0;31m# Target variable (species)\u001b[0m\u001b[0;34m\u001b[0m\u001b[0;34m\u001b[0m\u001b[0m\n",
            "\u001b[0;31mNameError\u001b[0m: name 'datasets' is not defined"
          ]
        }
      ],
      "source": [
        "import pandas as pd\n",
        "from sklearn.model_selection import train_test_split\n",
        "from sklearn.neighbors import KNeighborsClassifier\n",
        "from sklearn.metrics import accuracy_score\n",
        "import matplotlib.pyplot as plt\n",
        "# Read the data into a DataFrame\n",
        "data = pd.read_csv('/content/breast_cancer_survival.csv')\n",
        "# Identify the features (X) and target variable (y)\n",
        "X = data.drop('Histology', axis=1)\n",
        "# Assuming'target_variable_column_name' is the name of your target variable column\n",
        "y = data['Histology']\n",
        "# Split the data into training and testing sets\n",
        "X_train, X_test, y_train, y_test = train_test_split(X, y,\n",
        "test_size=0.2, random_state=42)\n",
        "# Train KNN for different values of K and calculate accuracy\n",
        "k_values = list(range(2, 21))\n",
        "accuracies = []\n",
        "for k in k_values:\n",
        " try:\n",
        "    knn = KNeighborsClassifier(n_neighbors=k)\n",
        "    knn.fit(X_train, y_train)\n",
        "    y_pred = knn.predict(X_test)\n",
        "    accuracy = accuracy_score(y_test, y_pred)\n",
        "    accuracies.append(accuracy)\n",
        " except ValueError as e:\n",
        "  print(f\"Error occurred for k={k}: {e}\")\n",
        "if len(k_values) == len(accuracies):\n",
        " # Plot the graph\n",
        " plt.plot(k_values, accuracies, marker='o')\n",
        " plt.title('Accuracy vs K Value')\n",
        " plt.xlabel('K Value')\n",
        " plt.ylabel('Accuracy')\n",
        " plt.xticks(k_values)\n",
        " plt.grid(True)\n",
        " plt.show()\n",
        "else:\n",
        " print(\"Error: Lengths of k_values and accuracies are not equal.\")\n",
        "# Load the Iris dataset\n",
        " iris = datasets.load_iris()\n",
        "X = iris.data # Features\n",
        "y = iris.target # Target variable (species)\n",
        "# Split the data into train and test sets\n",
        "X_train, X_test, y_train, y_test = train_test_split(X, y,\n",
        "test_size=0.33, random_state=42)\n",
        "# Train the Decision Tree model\n",
        "dtree = DecisionTreeClassifier()\n",
        "dtree.fit(X_train, y_train)\n",
        "# Predict on test data\n",
        "y_pred = dtree.predict(X_test)\n",
        "# Calculate metrics\n",
        "accuracy = accuracy_score(y_test, y_pred)\n",
        "precision = precision_score(y_test, y_pred, average='weighted')\n",
        "recall = recall_score(y_test, y_pred, average='weighted')\n",
        "f1 = f1_score(y_test, y_pred, average='weighted')\n",
        "print(f\"Decision Tree Accuracy: {accuracy:.2f}\")\n",
        "print(f\"Precision: {precision:.2f}\")\n",
        "print(f\"Recall: {recall:.2f}\")\n",
        "print(f\"F1-score: {f1:.2f}\")\n"
      ]
    }
  ]
}