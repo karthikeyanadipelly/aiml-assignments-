{
  "nbformat": 4,
  "nbformat_minor": 0,
  "metadata": {
    "colab": {
      "provenance": []
    },
    "kernelspec": {
      "name": "python3",
      "display_name": "Python 3"
    },
    "language_info": {
      "name": "python"
    }
  },
  "cells": [
    {
      "cell_type": "code",
      "execution_count": 7,
      "metadata": {
        "colab": {
          "base_uri": "https://localhost:8080/"
        },
        "id": "YU-a9bhac8c3",
        "outputId": "35798710-b58a-4d9b-b11f-9821c8f6cdc2"
      },
      "outputs": [
        {
          "output_type": "stream",
          "name": "stdout",
          "text": [
            "Intercept: 0.0\n",
            "Coefficients: [ 1.00000000e+00 -1.18642139e-14 -5.21837783e-17  1.24337386e-16\n",
            "  9.23977245e-17  4.51448259e-16 -7.04412355e-14  8.40792973e-14\n",
            "  9.26674178e-14 -2.55736530e-14  6.08948405e-16 -5.14156844e-16\n",
            "  2.11903371e-16 -3.26417778e-16  2.33885095e-16 -3.30579512e-14\n",
            " -1.24777860e-14]\n",
            "\n",
            "\n",
            "Mean Squared Error: 1.3667919996056604e-24\n",
            "R-squared: 1.0\n"
          ]
        }
      ],
      "source": [
        "import pandas as pd\n",
        "from sklearn.model_selection import train_test_split\n",
        "from sklearn.linear_model import LinearRegression\n",
        "from sklearn.metrics import mean_squared_error, r2_score\n",
        "from sklearn.impute import SimpleImputer\n",
        "\n",
        "# a) Read the data with pandas\n",
        "data = pd.read_csv(\"/content/CC GENERAL.csv\")  # Replace \"/content/CC GENERAL.csv\" with your actual dataset file path\n",
        "\n",
        "import pandas as pd\n",
        "from sklearn.model_selection import train_test_split\n",
        "from sklearn.linear_model import LinearRegression\n",
        "from sklearn.metrics import mean_squared_error, r2_score\n",
        "from sklearn.impute import SimpleImputer\n",
        "\n",
        "# a) Read the data with pandas\n",
        "data = pd.read_csv(\"/content/CC GENERAL.csv\")  # Replace \"/content/CC GENERAL.csv\" with your actual dataset file path\n",
        "\n",
        "# Drop non-numeric columns\n",
        "data_numeric = data.select_dtypes(include=['number'])\n",
        "\n",
        "# Impute missing values with mean\n",
        "imputer = SimpleImputer(strategy='mean')\n",
        "data_imputed = pd.DataFrame(imputer.fit_transform(data_numeric), columns=data_numeric.columns)\n",
        "\n",
        "# Check if 'CUST_ID' exists before dropping it\n",
        "if 'CUST_ID' in data_imputed.columns:\n",
        "    X = data_imputed.drop(columns=['CUST_ID'])\n",
        "else:\n",
        "        X = data_imputed.copy()\n",
        "\n",
        "        # Split data into features and target variable\n",
        "        y = data_imputed['BALANCE']  # Target variable\n",
        "\n",
        "        # Split data into training and testing sets\n",
        "        X_train, X_test, y_train, y_test = train_test_split(X, y, test_size=0.2, random_state=42)\n",
        "\n",
        "        # b) Apply suitable model, and train\n",
        "        model = LinearRegression()\n",
        "        model.fit(X_train, y_train)\n",
        "\n",
        "        # c) Print results\n",
        "        print(\"Intercept:\", model.intercept_)\n",
        "        print(\"Coefficients:\", model.coef_)\n",
        "        print(\"\\n\")\n",
        "\n",
        "        # Predict on the test set\n",
        "        y_pred = model.predict(X_test)\n",
        "\n",
        "        # Print evaluation metrics\n",
        "        print(\"Mean Squared Error:\", mean_squared_error(y_test, y_pred))\n",
        "        print(\"R-squared:\", r2_score(y_test, y_pred))\n",
        "\n"
      ]
    }
  ]
}